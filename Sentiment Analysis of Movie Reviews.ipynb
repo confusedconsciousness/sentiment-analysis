{
 "cells": [
  {
   "cell_type": "markdown",
   "metadata": {},
   "source": [
    "# Sentiment Analysis on Movie Reviews\n",
    "<b>Members:</b>\n",
    "<ol>\n",
    "    <li> Kishan Kumar (16115061) </li>\n",
    "    <li> Muskan Mittal (16115074) </li>\n",
    "    <li> Akshit Gupta</li>\n",
    "    <li> Mehek Mittal </li>\n",
    "</ol>"
   ]
  },
  {
   "cell_type": "markdown",
   "metadata": {},
   "source": [
    "# About\n",
    "<br>\n",
    "<p>The objective of this project is to try out different deep learning algorithm and compare them based on how well they perform.</p>\n",
    "Following are the various approaches used:\n",
    "<ul>\n",
    "    <li> Long short term memory (LSTM) cells.</li>\n",
    "    <li> Convolutional Neural Networks </li>\n",
    "    <li> LSTM followed by CNN </li>\n",
    "    <li> CNN followed by LSTM </li>\n",
    "</ul>"
   ]
  },
  {
   "cell_type": "code",
   "execution_count": 2,
   "metadata": {},
   "outputs": [],
   "source": [
    "# importing some basic libraries\n",
    "import pandas as pd\n",
    "import numpy as np\n",
    "import matplotlib.pyplot as plt\n",
    "from tqdm import tqdm"
   ]
  },
  {
   "cell_type": "markdown",
   "metadata": {},
   "source": [
    "## a brief about our Data...\n",
    "what kind of data are we using?<br>\n",
    "We are using the data from kaggle hosted competition."
   ]
  },
  {
   "cell_type": "code",
   "execution_count": 3,
   "metadata": {},
   "outputs": [],
   "source": [
    "train = pd.read_csv('train.tsv', sep='\\t')\n",
    "test = pd.read_csv('test.tsv', sep='\\t')"
   ]
  },
  {
   "cell_type": "code",
   "execution_count": 4,
   "metadata": {},
   "outputs": [
    {
     "data": {
      "text/html": [
       "<div>\n",
       "<style scoped>\n",
       "    .dataframe tbody tr th:only-of-type {\n",
       "        vertical-align: middle;\n",
       "    }\n",
       "\n",
       "    .dataframe tbody tr th {\n",
       "        vertical-align: top;\n",
       "    }\n",
       "\n",
       "    .dataframe thead th {\n",
       "        text-align: right;\n",
       "    }\n",
       "</style>\n",
       "<table border=\"1\" class=\"dataframe\">\n",
       "  <thead>\n",
       "    <tr style=\"text-align: right;\">\n",
       "      <th></th>\n",
       "      <th>PhraseId</th>\n",
       "      <th>SentenceId</th>\n",
       "      <th>Phrase</th>\n",
       "      <th>Sentiment</th>\n",
       "    </tr>\n",
       "  </thead>\n",
       "  <tbody>\n",
       "    <tr>\n",
       "      <th>0</th>\n",
       "      <td>1</td>\n",
       "      <td>1</td>\n",
       "      <td>A series of escapades demonstrating the adage ...</td>\n",
       "      <td>1</td>\n",
       "    </tr>\n",
       "    <tr>\n",
       "      <th>1</th>\n",
       "      <td>2</td>\n",
       "      <td>1</td>\n",
       "      <td>A series of escapades demonstrating the adage ...</td>\n",
       "      <td>2</td>\n",
       "    </tr>\n",
       "    <tr>\n",
       "      <th>2</th>\n",
       "      <td>3</td>\n",
       "      <td>1</td>\n",
       "      <td>A series</td>\n",
       "      <td>2</td>\n",
       "    </tr>\n",
       "    <tr>\n",
       "      <th>3</th>\n",
       "      <td>4</td>\n",
       "      <td>1</td>\n",
       "      <td>A</td>\n",
       "      <td>2</td>\n",
       "    </tr>\n",
       "    <tr>\n",
       "      <th>4</th>\n",
       "      <td>5</td>\n",
       "      <td>1</td>\n",
       "      <td>series</td>\n",
       "      <td>2</td>\n",
       "    </tr>\n",
       "    <tr>\n",
       "      <th>5</th>\n",
       "      <td>6</td>\n",
       "      <td>1</td>\n",
       "      <td>of escapades demonstrating the adage that what...</td>\n",
       "      <td>2</td>\n",
       "    </tr>\n",
       "    <tr>\n",
       "      <th>6</th>\n",
       "      <td>7</td>\n",
       "      <td>1</td>\n",
       "      <td>of</td>\n",
       "      <td>2</td>\n",
       "    </tr>\n",
       "    <tr>\n",
       "      <th>7</th>\n",
       "      <td>8</td>\n",
       "      <td>1</td>\n",
       "      <td>escapades demonstrating the adage that what is...</td>\n",
       "      <td>2</td>\n",
       "    </tr>\n",
       "    <tr>\n",
       "      <th>8</th>\n",
       "      <td>9</td>\n",
       "      <td>1</td>\n",
       "      <td>escapades</td>\n",
       "      <td>2</td>\n",
       "    </tr>\n",
       "    <tr>\n",
       "      <th>9</th>\n",
       "      <td>10</td>\n",
       "      <td>1</td>\n",
       "      <td>demonstrating the adage that what is good for ...</td>\n",
       "      <td>2</td>\n",
       "    </tr>\n",
       "  </tbody>\n",
       "</table>\n",
       "</div>"
      ],
      "text/plain": [
       "   PhraseId  SentenceId                                             Phrase  \\\n",
       "0         1           1  A series of escapades demonstrating the adage ...   \n",
       "1         2           1  A series of escapades demonstrating the adage ...   \n",
       "2         3           1                                           A series   \n",
       "3         4           1                                                  A   \n",
       "4         5           1                                             series   \n",
       "5         6           1  of escapades demonstrating the adage that what...   \n",
       "6         7           1                                                 of   \n",
       "7         8           1  escapades demonstrating the adage that what is...   \n",
       "8         9           1                                          escapades   \n",
       "9        10           1  demonstrating the adage that what is good for ...   \n",
       "\n",
       "   Sentiment  \n",
       "0          1  \n",
       "1          2  \n",
       "2          2  \n",
       "3          2  \n",
       "4          2  \n",
       "5          2  \n",
       "6          2  \n",
       "7          2  \n",
       "8          2  \n",
       "9          2  "
      ]
     },
     "execution_count": 4,
     "metadata": {},
     "output_type": "execute_result"
    }
   ],
   "source": [
    "train[0:10]"
   ]
  },
  {
   "cell_type": "markdown",
   "metadata": {},
   "source": [
    "The dataset consist of <b>4 columns</b>, mainly we are focused toward the <b>Phrase</b> and the associated <b>Sentiment</b>. <br>\n",
    "Notice that the subsequent phrases are just a part of the main sentence and to tell that a phrase is a part of the main sentence we have sentenceID."
   ]
  },
  {
   "cell_type": "code",
   "execution_count": 5,
   "metadata": {},
   "outputs": [],
   "source": [
    "# Let's convert the Sentiment column to string, so that we can use a library to convert it into one hot encoding easily\n",
    "train['Sentiment'] = train['Sentiment'].apply(str)"
   ]
  },
  {
   "cell_type": "code",
   "execution_count": 6,
   "metadata": {},
   "outputs": [
    {
     "data": {
      "text/plain": [
       "2    79582\n",
       "3    32927\n",
       "1    27273\n",
       "4     9206\n",
       "0     7072\n",
       "Name: Sentiment, dtype: int64"
      ]
     },
     "execution_count": 6,
     "metadata": {},
     "output_type": "execute_result"
    }
   ],
   "source": [
    "# let's see the polarity of our dataset\n",
    "train.Sentiment.value_counts()"
   ]
  },
  {
   "cell_type": "markdown",
   "metadata": {},
   "source": [
    "Mostly we have the phrases having sentiment as <b>2</b>, this is because the dataset consists of mostly one or two word phrases. for example, <b>\"of\"</b>, <b>\"the\"</b>, <b>\"series\"</b> these words are one way or other neutral and our data is plagued by these phrases only. <br> But we can't just remove one word phrases because it might be the case that some one word may consist of <b>\"good\"</b>, <b>\"best\"</b>, <b>\"excellent\"</b>, <b>\"outstanding\"</b>, you got the point.\n",
    "<br>\n",
    "From the above inference we got to know that we have 5 unique sentiments, ranging from 0 to 4 with 0 signifying very poor and 4 signifying outstanding.<br><br>\n",
    "The phrases as you might guess consists of words that are not relevant, what i mean by it is that they don't contribute in determining the context as well as the polarity of the sentence. These words are redundant and doesn't affect the performance of our deep learning model if removed.\n",
    "<br>\n",
    "The <b>Natural Language Toolkit (NLTK)</b> provides us some libraries to help us with that sort of problems."
   ]
  },
  {
   "cell_type": "code",
   "execution_count": 7,
   "metadata": {},
   "outputs": [],
   "source": [
    "# importing libraries related to the text processing\n",
    "import nltk\n",
    "from nltk.tokenize import word_tokenize\n",
    "from nltk.stem import WordNetLemmatizer\n",
    "import re"
   ]
  },
  {
   "cell_type": "markdown",
   "metadata": {},
   "source": [
    "<b>What does these libraries do?</b><br>\n",
    "<p>well, tokenize is to convert a word to numeric value, basically it is a mapping of words, because deep learning models are trained on numbers and not text.</p>\n",
    "<p> WordNetLemmatizer is used to stem the words, for e.g. running, run, ran they all have the same stem i.e. run, but the deep learning model will consider as if it is different, so we stem them, such that there meaning is still preserved.</p>"
   ]
  },
  {
   "cell_type": "code",
   "execution_count": 103,
   "metadata": {},
   "outputs": [],
   "source": [
    "# importing keras libraries\n",
    "from keras.utils import to_categorical\n",
    "import random\n",
    "from tensorflow import set_random_seed\n",
    "from sklearn.model_selection import train_test_split\n",
    "from keras.preprocessing import sequence\n",
    "from keras.preprocessing.text import Tokenizer\n",
    "from keras.layers import Dense, Dropout, Embedding, LSTM, Flatten\n",
    "from keras.callbacks import EarlyStopping, ModelCheckpoint\n",
    "from keras.losses import categorical_crossentropy\n",
    "from keras.optimizers import Adam\n",
    "from keras.models import Sequential"
   ]
  },
  {
   "cell_type": "code",
   "execution_count": 9,
   "metadata": {},
   "outputs": [],
   "source": [
    "# setting the seed so that the weights that will be initialised in mine or in your will be same that is our initial state will be same\n",
    "set_random_seed(5)\n",
    "random.seed(5)"
   ]
  },
  {
   "cell_type": "code",
   "execution_count": 10,
   "metadata": {},
   "outputs": [
    {
     "data": {
      "text/plain": [
       "(156060, 4)"
      ]
     },
     "execution_count": 10,
     "metadata": {},
     "output_type": "execute_result"
    }
   ],
   "source": [
    "train.shape"
   ]
  },
  {
   "cell_type": "code",
   "execution_count": 11,
   "metadata": {},
   "outputs": [
    {
     "data": {
      "text/plain": [
       "(66292, 3)"
      ]
     },
     "execution_count": 11,
     "metadata": {},
     "output_type": "execute_result"
    }
   ],
   "source": [
    "test.shape"
   ]
  },
  {
   "cell_type": "markdown",
   "metadata": {},
   "source": [
    "## Data Preprocessing Phase\n",
    "In this phase we'll be cleaning our data, what i mean by cleaning is to perform the following operations\n",
    "<ul>\n",
    "    <li> Remove non-alphabetical characters </li>\n",
    "    <li> Tokenize the sentences </li>\n",
    "    <li> Lemmatize each word to its basic form </li>\n",
    "</ul>"
   ]
  },
  {
   "cell_type": "code",
   "execution_count": 12,
   "metadata": {},
   "outputs": [],
   "source": [
    "# initialize the WordNetLemmatizer\n",
    "lemmatizer = WordNetLemmatizer()"
   ]
  },
  {
   "cell_type": "code",
   "execution_count": 13,
   "metadata": {},
   "outputs": [],
   "source": [
    "def preprocess(df):\n",
    "    \"\"\"\n",
    "    returns a list of clean reviews after applying all the three operations mentioned above\n",
    "    Input:\n",
    "        df : a dataframe consisting of our required data\n",
    "    \"\"\"\n",
    "    reviews = []\n",
    "    for sentence in tqdm(df['Phrase']):\n",
    "        # basically we are working on each phrase from a list of phrases, tqdm to just show the progressbar in the notebook\n",
    "        clean_phrase = re.sub(\"[^a-zA-Z]\", \" \", sentence) # replace all the non-alphabetical character with a space\n",
    "        words = word_tokenize(clean_phrase.lower()) # tokenize the sentence (break the sentences into words that's it)\n",
    "        lemma_words = [lemmatizer.lemmatize(word) for word in words]\n",
    "        reviews.append(lemma_words)\n",
    "    return(reviews)"
   ]
  },
  {
   "cell_type": "code",
   "execution_count": 14,
   "metadata": {},
   "outputs": [
    {
     "name": "stderr",
     "output_type": "stream",
     "text": [
      "100%|██████████| 156060/156060 [00:22<00:00, 6841.96it/s]\n",
      "100%|██████████| 66292/66292 [00:07<00:00, 8518.63it/s]\n"
     ]
    }
   ],
   "source": [
    "# let's call our preprocess function over train and test dataset\n",
    "train_phrases = preprocess(train)\n",
    "test_phrases = preprocess(test)"
   ]
  },
  {
   "cell_type": "code",
   "execution_count": 16,
   "metadata": {},
   "outputs": [],
   "source": [
    "# we need to convert the categorical variable which was the sentiment to one-hot encoding\n",
    "sentiment = train.Sentiment.values\n",
    "y = to_categorical(sentiment)\n",
    "num_classes = y.shape[1]"
   ]
  },
  {
   "cell_type": "code",
   "execution_count": 17,
   "metadata": {},
   "outputs": [
    {
     "name": "stdout",
     "output_type": "stream",
     "text": [
      "5\n"
     ]
    }
   ],
   "source": [
    "print(num_classes)"
   ]
  },
  {
   "cell_type": "markdown",
   "metadata": {},
   "source": [
    "## Split the training and validation sets"
   ]
  },
  {
   "cell_type": "code",
   "execution_count": 18,
   "metadata": {},
   "outputs": [],
   "source": [
    "X_train, X_val, y_train, y_val = train_test_split(train_phrases, y, test_size=0.2, stratify=y)"
   ]
  },
  {
   "cell_type": "markdown",
   "metadata": {},
   "source": [
    "We are using <b>stratify = y</b>, it aims at splitting the dataset in such a way that the proportion of the classes will be same in the split.<br>\n",
    "In a classification setting, it is often chosen to ensure that the train and test sets have approximately the same percentage of samples of each target class as the complete set"
   ]
  },
  {
   "cell_type": "code",
   "execution_count": 42,
   "metadata": {},
   "outputs": [
    {
     "name": "stdout",
     "output_type": "stream",
     "text": [
      "Data present in the training set...\n",
      "phrase 0: ['a', 'jaunt', 'down', 'memory', 'lane', 'for', 'teen', 'and']\n",
      "phrase 1: ['suck', 'but', 'ha', 'a', 'funny', 'moment', 'or', 'two']\n",
      "phrase 2: ['of', 'the', 'post', 'war', 'art', 'world']\n",
      "phrase 3: ['this', 'is', 'a', 'lax', 'and', 'limp', 'a', 'comedy', 'a', 'i', 've', 'seen', 'in', 'a', 'while', 'a', 'meander', 'through', 'worn', 'out', 'material']\n",
      "phrase 4: ['started', 'hanging', 'out', 'at', 'the', 'barbershop']\n",
      "\n",
      "\n",
      "Data present in the validation set...\n",
      "phrase 0: ['putrid']\n",
      "phrase 1: ['you', 'saw', 'it', 'on', 'tv']\n",
      "phrase 2: ['the', 'movie', 'will', 'live', 'up', 'to', 'the', 'apparent', 'skill', 'of', 'it', 'maker', 'and', 'the', 'talent', 'of', 'it', 'actor']\n",
      "phrase 3: ['appropriated']\n",
      "phrase 4: ['historical', 'subject']\n"
     ]
    }
   ],
   "source": [
    "# an overview of what we have present in the training and validation set\n",
    "print(\"Data present in the training set...\")\n",
    "for i, phrase in enumerate(X_train[0:5]):\n",
    "    print(\"phrase {0}: {1}\".format(i, phrase))\n",
    "\n",
    "print(\"\\n\\nData present in the validation set...\")\n",
    "for i, phrase in enumerate(X_val[0:5]):\n",
    "    print(\"phrase {0}: {1}\".format(i, phrase))"
   ]
  },
  {
   "cell_type": "code",
   "execution_count": 49,
   "metadata": {},
   "outputs": [
    {
     "name": "stderr",
     "output_type": "stream",
     "text": [
      "100%|██████████| 156060/156060 [00:00<00:00, 1095242.77it/s]\n",
      "100%|██████████| 66292/66292 [00:00<00:00, 1332340.49it/s]"
     ]
    },
    {
     "name": "stdout",
     "output_type": "stream",
     "text": [
      "total unique words found in our complete dataset : 15884\n",
      "max length of a phrase found in our testing phase is : 48\n"
     ]
    },
    {
     "name": "stderr",
     "output_type": "stream",
     "text": [
      "\n"
     ]
    }
   ],
   "source": [
    "# let's find out the total unique words that we have in our dataset and also gettting the length of the reviews\n",
    "unique_words  = set() # why set? because set has a property that every element stored will be present only once\n",
    "max_len = 0; # to store the maximum length of the review found so far\n",
    "\n",
    "for sentence in tqdm(train_phrases):\n",
    "    unique_words.update(sentence)\n",
    "    if(max_len < len(sentence)):\n",
    "        max_len = len(sentence)\n",
    "\n",
    "for sentence in tqdm(test_phrases):\n",
    "    unique_words.update(sentence)\n",
    "    \n",
    "print(\"total unique words found in our complete dataset : {0}\".format(len(list(unique_words))))\n",
    "print(\"max length of a phrase found in our testing phase is : {0}\" .format(max_len))"
   ]
  },
  {
   "cell_type": "markdown",
   "metadata": {},
   "source": [
    "Why we are including the <b>test_phrases</b> in order to find the unique_words, because we want our model to know beforehand how many unique words is it expecting. <br>for example let's say that there is a word present in our test phase which was not present in the training phase due to which we do not have its mapping, this will be a problem and our model will suffer."
   ]
  },
  {
   "cell_type": "markdown",
   "metadata": {},
   "source": [
    "## Tokenization\n",
    "In this section we'll be going to get the mapping of our words to numbers, and we will also convert them into sequences which means we will pad them such that all the phrases have same lengths."
   ]
  },
  {
   "cell_type": "code",
   "execution_count": 50,
   "metadata": {},
   "outputs": [],
   "source": [
    "tokenizer = Tokenizer(num_words=len(list(unique_words)))\n",
    "tokenizer.fit_on_texts(list(X_train))"
   ]
  },
  {
   "cell_type": "code",
   "execution_count": 52,
   "metadata": {},
   "outputs": [],
   "source": [
    "def text_to_sequence(texts, tokenizer):\n",
    "    \"\"\"\n",
    "    it basically converts a list of texts to sequences\n",
    "    input: \n",
    "    texts - a list of text\n",
    "    tokenizer - an instance of Tokenizer that has been fitted on the phrases\n",
    "    \"\"\"\n",
    "    return tokenizer.texts_to_sequences(texts)"
   ]
  },
  {
   "cell_type": "code",
   "execution_count": 53,
   "metadata": {},
   "outputs": [],
   "source": [
    "def pad_sequences(sequences, max_len):\n",
    "    \"\"\"\n",
    "    it pads the sequences so that they all have same size of max_len by adding zeros\n",
    "    input:\n",
    "    sequences - a list of sequences\n",
    "    max_len - the size that we want in the end\n",
    "    \"\"\"\n",
    "    return sequence.pad_sequences(sequences, max_len)"
   ]
  },
  {
   "cell_type": "code",
   "execution_count": 54,
   "metadata": {},
   "outputs": [],
   "source": [
    "X_train = text_to_sequence(X_train, tokenizer)\n",
    "X_val = text_to_sequence(X_val, tokenizer)\n",
    "X_test = text_to_sequence(test_phrases, tokenizer)"
   ]
  },
  {
   "cell_type": "code",
   "execution_count": 57,
   "metadata": {},
   "outputs": [
    {
     "name": "stdout",
     "output_type": "stream",
     "text": [
      "Tokenized phrases present in the training set...\n",
      "phrase 0: [2, 5401, 163, 587, 1557, 14, 352, 4]\n",
      "phrase 1: [1809, 17, 37, 2, 70, 136, 30, 97]\n",
      "phrase 2: [3, 1, 899, 181, 236, 120]\n",
      "phrase 3: [16, 9, 2, 10851, 4, 3411, 2, 54, 2, 62, 220, 201, 8, 2, 168, 2, 5402, 107, 2001, 41, 207]\n",
      "phrase 4: [2089, 5967, 41, 29, 1, 2053]\n",
      "\n",
      "\\Tokenized phrases present in the validation set...\n",
      "phrase 0: [5835]\n",
      "phrase 1: [19, 747, 6, 20, 314]\n",
      "phrase 2: [1, 12, 71, 401, 44, 5, 1, 1589, 792, 3, 6, 1357, 4, 1, 418, 3, 6, 133]\n",
      "phrase 3: [11548]\n",
      "phrase 4: [550, 210]\n"
     ]
    }
   ],
   "source": [
    "# let's have a look at it\n",
    "print(\"Tokenized phrases present in the training set...\")\n",
    "for i, phrase in enumerate(X_train[0:5]):\n",
    "    print(\"phrase {0}: {1}\".format(i, phrase))\n",
    "\n",
    "print(\"\\n\\Tokenized phrases present in the validation set...\")\n",
    "for i, phrase in enumerate(X_val[0:5]):\n",
    "    print(\"phrase {0}: {1}\".format(i, phrase))"
   ]
  },
  {
   "cell_type": "markdown",
   "metadata": {},
   "source": [
    "As we can infer that all the phrases have different lengths, and for the LSTMs we want the sequences to be having the same size so we'll pad these sequences with 0"
   ]
  },
  {
   "cell_type": "code",
   "execution_count": 58,
   "metadata": {},
   "outputs": [],
   "source": [
    "# let's add padding\n",
    "X_train = pad_sequences(X_train, max_len)\n",
    "X_val = pad_sequences(X_val, max_len)\n",
    "X_test = pad_sequences(X_test, max_len)"
   ]
  },
  {
   "cell_type": "code",
   "execution_count": 61,
   "metadata": {},
   "outputs": [
    {
     "name": "stdout",
     "output_type": "stream",
     "text": [
      "Tokenized phrases along with padding present in the training set...\n",
      "phrase 0: [   0    0    0    0    0    0    0    0    0    0    0    0    0    0\n",
      "    0    0    0    0    0    0    0    0    0    0    0    0    0    0\n",
      "    0    0    0    0    0    0    0    0    0    0    0    0    2 5401\n",
      "  163  587 1557   14  352    4]\n",
      "phrase 1: [   0    0    0    0    0    0    0    0    0    0    0    0    0    0\n",
      "    0    0    0    0    0    0    0    0    0    0    0    0    0    0\n",
      "    0    0    0    0    0    0    0    0    0    0    0    0 1809   17\n",
      "   37    2   70  136   30   97]\n",
      "\n",
      "Tokenized phrases along with padding present in the validation set...\n",
      "phrase 0: [   0    0    0    0    0    0    0    0    0    0    0    0    0    0\n",
      "    0    0    0    0    0    0    0    0    0    0    0    0    0    0\n",
      "    0    0    0    0    0    0    0    0    0    0    0    0    0    0\n",
      "    0    0    0    0    0 5835]\n",
      "phrase 1: [  0   0   0   0   0   0   0   0   0   0   0   0   0   0   0   0   0   0\n",
      "   0   0   0   0   0   0   0   0   0   0   0   0   0   0   0   0   0   0\n",
      "   0   0   0   0   0   0   0  19 747   6  20 314]\n"
     ]
    }
   ],
   "source": [
    "# let's have a look at it\n",
    "print(\"Tokenized phrases along with padding present in the training set...\")\n",
    "for i, phrase in enumerate(X_train[0:2]):\n",
    "    print(\"phrase {0}: {1}\".format(i, phrase))\n",
    "\n",
    "print(\"\\nTokenized phrases along with padding present in the validation set...\")\n",
    "for i, phrase in enumerate(X_val[0:2]):\n",
    "    print(\"phrase {0}: {1}\".format(i, phrase))"
   ]
  },
  {
   "cell_type": "markdown",
   "metadata": {},
   "source": [
    "As we can see most of the segment present in the phrase is padded with zero"
   ]
  },
  {
   "cell_type": "code",
   "execution_count": 63,
   "metadata": {},
   "outputs": [
    {
     "name": "stdout",
     "output_type": "stream",
     "text": [
      "Shape of the training set: (124848, 48)\n",
      "Shape of the validation set: (31212, 48)\n",
      "Shape of the testing set: (66292, 48)\n"
     ]
    }
   ],
   "source": [
    "print(\"Shape of the training set: {0}\".format(np.shape(X_train)))\n",
    "print(\"Shape of the validation set: {0}\".format(np.shape(X_val)))\n",
    "print(\"Shape of the testing set: {0}\".format(np.shape(X_test)))"
   ]
  },
  {
   "cell_type": "markdown",
   "metadata": {},
   "source": [
    "### Callbacks\n",
    "We'll be using two callbacks in this project.\n",
    "<ol>\n",
    "    <li> <b>Early Stopping</b> : this helps our model to stop early if our model is not learning anything at all for a consectutive no of epochs, that is also tuneable</li>\n",
    "    <li> <b>ModelCheckpoint</b> : this helps us to save the model after each epoch based on some criterion for example save only when our model has performed better on the validation loss</li>\n",
    "</ol>"
   ]
  },
  {
   "cell_type": "code",
   "execution_count": 66,
   "metadata": {},
   "outputs": [],
   "source": [
    "our_callbacks = [EarlyStopping(monitor=\"val_acc\", patience=5, min_delta=0.001, mode=\"max\"),\n",
    "                ModelCheckpoint(filepath=\"dbms_model.h5\", save_best_only=True, save_weights_only=False)]"
   ]
  },
  {
   "cell_type": "markdown",
   "metadata": {},
   "source": [
    "## Model - 1\n",
    "We'll be using several different model and test them on our validation set to know which performed better. <br>\n",
    "In our first model we'll be using only LSTMs"
   ]
  },
  {
   "cell_type": "code",
   "execution_count": 75,
   "metadata": {},
   "outputs": [
    {
     "name": "stdout",
     "output_type": "stream",
     "text": [
      "Model: \"Model #1\"\n",
      "_________________________________________________________________\n",
      "Layer (type)                 Output Shape              Param #   \n",
      "=================================================================\n",
      "Embedding (Embedding)        (None, 48, 256)           4066304   \n",
      "_________________________________________________________________\n",
      "LSTM1 (LSTM)                 (None, 48, 128)           197120    \n",
      "_________________________________________________________________\n",
      "LSTM2 (LSTM)                 (None, 64)                49408     \n",
      "_________________________________________________________________\n",
      "Dense1 (Dense)               (None, 100)               6500      \n",
      "_________________________________________________________________\n",
      "Dropout1 (Dropout)           (None, 100)               0         \n",
      "_________________________________________________________________\n",
      "Output (Dense)               (None, 5)                 505       \n",
      "=================================================================\n",
      "Total params: 4,319,837\n",
      "Trainable params: 4,319,837\n",
      "Non-trainable params: 0\n",
      "_________________________________________________________________\n"
     ]
    }
   ],
   "source": [
    "model = Sequential(name=\"Model #1\")\n",
    "model.add(Embedding(len(list(unique_words)), 256, input_length=max_len, name=\"Embedding\"))\n",
    "model.add(LSTM(128, dropout=0.5, recurrent_dropout=0.5, return_sequences=True, name=\"LSTM1\"))\n",
    "model.add(LSTM(64, dropout=0.5, recurrent_dropout=0.5, return_sequences=False, name=\"LSTM2\"))\n",
    "model.add(Dense(100, activation=\"relu\", name=\"Dense1\"))\n",
    "model.add(Dropout(0.5, name=\"Dropout1\"))\n",
    "model.add(Dense(num_classes, activation=\"softmax\", name=\"Output\"))\n",
    "model.compile(loss=\"categorical_crossentropy\", optimizer=Adam(lr=0.005), metrics=['accuracy'])\n",
    "model.summary()"
   ]
  },
  {
   "cell_type": "code",
   "execution_count": 77,
   "metadata": {},
   "outputs": [
    {
     "name": "stdout",
     "output_type": "stream",
     "text": [
      "Train on 124848 samples, validate on 31212 samples\n",
      "Epoch 1/3\n",
      "124848/124848 [==============================] - 260s 2ms/step - loss: 0.9347 - acc: 0.6210 - val_loss: 0.8314 - val_acc: 0.6563\n",
      "Epoch 2/3\n",
      "124848/124848 [==============================] - 282s 2ms/step - loss: 0.7897 - acc: 0.6730 - val_loss: 0.8014 - val_acc: 0.6719\n",
      "Epoch 3/3\n",
      "124848/124848 [==============================] - 282s 2ms/step - loss: 0.7303 - acc: 0.6961 - val_loss: 0.8122 - val_acc: 0.6696\n"
     ]
    }
   ],
   "source": [
    "history = model.fit(X_train, y_train, validation_data=(X_val, y_val), epochs=3, batch_size=256, verbose=1, callbacks=our_callbacks)"
   ]
  },
  {
   "cell_type": "markdown",
   "metadata": {},
   "source": [
    "## Results"
   ]
  },
  {
   "cell_type": "code",
   "execution_count": 78,
   "metadata": {},
   "outputs": [
    {
     "data": {
      "image/png": "[encoded data removed]",
      "text/plain": [
       "<Figure size 432x288 with 1 Axes>"
      ]
     },
     "metadata": {
      "needs_background": "light"
     },
     "output_type": "display_data"
    }
   ],
   "source": [
    "plt.plot(history.history['loss'], 'r--')\n",
    "plt.plot(history.history['val_loss'], 'b--')\n",
    "plt.legend(['Training loss', 'Validation loss'])\n",
    "plt.xlabel(\"# epochs\")\n",
    "plt.ylabel(\"Loss\")\n",
    "plt.show()"
   ]
  },
  {
   "cell_type": "markdown",
   "metadata": {},
   "source": [
    "## Model - 2\n",
    "We'll be using CNN + LSTM, let's see will the accuracy improve?"
   ]
  },
  {
   "cell_type": "code",
   "execution_count": 83,
   "metadata": {},
   "outputs": [],
   "source": [
    "# importing libraries associated with convolutions\n",
    "from keras.layers import Conv1D, MaxPooling1D"
   ]
  },
  {
   "cell_type": "code",
   "execution_count": 89,
   "metadata": {},
   "outputs": [],
   "source": [
    "# defining second callbacks\n",
    "our_callbacks2 = [EarlyStopping(monitor=\"val_acc\", patience=5, min_delta=0.001, mode=\"max\"),\n",
    "                ModelCheckpoint(filepath=\"dbms_model_cnn_lstm.h5\", save_best_only=True, save_weights_only=False)]"
   ]
  },
  {
   "cell_type": "code",
   "execution_count": 90,
   "metadata": {},
   "outputs": [
    {
     "name": "stdout",
     "output_type": "stream",
     "text": [
      "Model: \"Model #2\"\n",
      "_________________________________________________________________\n",
      "Layer (type)                 Output Shape              Param #   \n",
      "=================================================================\n",
      "Embedding (Embedding)        (None, 48, 256)           4066304   \n",
      "_________________________________________________________________\n",
      "Conv1 (Conv1D)               (None, 48, 32)            16416     \n",
      "_________________________________________________________________\n",
      "MaxPool1 (MaxPooling1D)      (None, 24, 32)            0         \n",
      "_________________________________________________________________\n",
      "Dropout1 (Dropout)           (None, 24, 32)            0         \n",
      "_________________________________________________________________\n",
      "Conv2 (Conv1D)               (None, 24, 64)            4160      \n",
      "_________________________________________________________________\n",
      "MaxPool2 (MaxPooling1D)      (None, 12, 64)            0         \n",
      "_________________________________________________________________\n",
      "Dropout2 (Dropout)           (None, 12, 64)            0         \n",
      "_________________________________________________________________\n",
      "LSTM (LSTM)                  (None, 128)               98816     \n",
      "_________________________________________________________________\n",
      "output (Dense)               (None, 5)                 645       \n",
      "=================================================================\n",
      "Total params: 4,186,341\n",
      "Trainable params: 4,186,341\n",
      "Non-trainable params: 0\n",
      "_________________________________________________________________\n"
     ]
    }
   ],
   "source": [
    "model2 = Sequential(name=\"Model #2\")\n",
    "model2.add(Embedding(len(list(unique_words)), 256, input_length=max_len, name=\"Embedding\"))\n",
    "model2.add(Conv1D(32, 2, name=\"Conv1\", padding=\"same\"))\n",
    "model2.add(MaxPooling1D(name=\"MaxPool1\"))\n",
    "model2.add(Dropout(0.5, name=\"Dropout1\"))\n",
    "model2.add(Conv1D(64, 2, name=\"Conv2\", padding=\"same\"))\n",
    "model2.add(MaxPooling1D(name=\"MaxPool2\"))\n",
    "model2.add(Dropout(0.5, name=\"Dropout2\"))\n",
    "model2.add(LSTM(128, dropout=0.5, recurrent_dropout=0.5, name=\"LSTM1\"))\n",
    "model2.add(LSTM(128, dropout=0.5, recurrent_dropout=0.5, name=\"LSTM2\"))\n",
    "model2.add(Dense(5, activation=\"softmax\", name=\"output\"))\n",
    "model2.compile(optimizer=Adam(lr=0.005), loss=\"categorical_crossentropy\", metrics=['accuracy'])\n",
    "model2.summary()"
   ]
  },
  {
   "cell_type": "code",
   "execution_count": 98,
   "metadata": {},
   "outputs": [
    {
     "name": "stdout",
     "output_type": "stream",
     "text": [
      "Train on 124848 samples, validate on 31212 samples\n",
      "Epoch 1/20\n",
      "124848/124848 [==============================] - 82s 658us/step - loss: 0.9305 - acc: 0.6192 - val_loss: 0.8868 - val_acc: 0.6372\n",
      "Epoch 2/20\n",
      "124848/124848 [==============================] - 72s 579us/step - loss: 0.8797 - acc: 0.6356 - val_loss: 0.8931 - val_acc: 0.6346\n",
      "Epoch 3/20\n",
      "124848/124848 [==============================] - 69s 551us/step - loss: 0.8790 - acc: 0.6335 - val_loss: 0.9010 - val_acc: 0.6302\n",
      "Epoch 4/20\n",
      "124848/124848 [==============================] - 69s 555us/step - loss: 0.8882 - acc: 0.6318 - val_loss: 0.9319 - val_acc: 0.6202\n",
      "Epoch 5/20\n",
      "124848/124848 [==============================] - 70s 561us/step - loss: 0.9003 - acc: 0.6257 - val_loss: 0.9506 - val_acc: 0.6166\n",
      "Epoch 6/20\n",
      "124848/124848 [==============================] - 70s 564us/step - loss: 0.9099 - acc: 0.6222 - val_loss: 0.9560 - val_acc: 0.6120\n"
     ]
    }
   ],
   "source": [
    "history2 = model2.fit(X_train, y_train, validation_data=(X_val, y_val), epochs=20, batch_size=256, verbose=1, callbacks=our_callbacks2)\n"
   ]
  },
  {
   "cell_type": "code",
   "execution_count": 99,
   "metadata": {},
   "outputs": [
    {
     "data": {
      "image/png": "[encoded data removed]",
      "text/plain": [
       "<Figure size 432x288 with 1 Axes>"
      ]
     },
     "metadata": {
      "needs_background": "light"
     },
     "output_type": "display_data"
    }
   ],
   "source": [
    "plt.plot(history2.history['loss'], 'r--')\n",
    "plt.plot(history2.history['val_loss'], 'b--')\n",
    "plt.legend(['Training loss', 'Validation loss'])\n",
    "plt.xlabel(\"# epochs\")\n",
    "plt.ylabel(\"Loss\")\n",
    "plt.show()"
   ]
  },
  {
   "cell_type": "markdown",
   "metadata": {},
   "source": [
    "## Model - 3\n",
    "In this we'll be using LSTM + CNN"
   ]
  },
  {
   "cell_type": "code",
   "execution_count": 100,
   "metadata": {},
   "outputs": [],
   "source": [
    "# defining third callbacks\n",
    "our_callbacks3 = [EarlyStopping(monitor=\"val_acc\", patience=5, min_delta=0.001, mode=\"max\"),\n",
    "                ModelCheckpoint(filepath=\"dbms_model_lstm_cnn.h5\", save_best_only=True, save_weights_only=False)]"
   ]
  },
  {
   "cell_type": "code",
   "execution_count": 104,
   "metadata": {},
   "outputs": [
    {
     "name": "stdout",
     "output_type": "stream",
     "text": [
      "Model: \"Model #3\"\n",
      "_________________________________________________________________\n",
      "Layer (type)                 Output Shape              Param #   \n",
      "=================================================================\n",
      "Embedding (Embedding)        (None, 48, 256)           4066304   \n",
      "_________________________________________________________________\n",
      "LSTM1 (LSTM)                 (None, 48, 64)            82176     \n",
      "_________________________________________________________________\n",
      "LSTM2 (LSTM)                 (None, 48, 128)           98816     \n",
      "_________________________________________________________________\n",
      "Conv1 (Conv1D)               (None, 48, 32)            8224      \n",
      "_________________________________________________________________\n",
      "MaxPool1 (MaxPooling1D)      (None, 24, 32)            0         \n",
      "_________________________________________________________________\n",
      "Dropout1 (Dropout)           (None, 24, 32)            0         \n",
      "_________________________________________________________________\n",
      "Conv2 (Conv1D)               (None, 24, 64)            4160      \n",
      "_________________________________________________________________\n",
      "MaxPool2 (MaxPooling1D)      (None, 12, 64)            0         \n",
      "_________________________________________________________________\n",
      "Dropout2 (Dropout)           (None, 12, 64)            0         \n",
      "_________________________________________________________________\n",
      "flatten_1 (Flatten)          (None, 768)               0         \n",
      "_________________________________________________________________\n",
      "output (Dense)               (None, 5)                 3845      \n",
      "=================================================================\n",
      "Total params: 4,263,525\n",
      "Trainable params: 4,263,525\n",
      "Non-trainable params: 0\n",
      "_________________________________________________________________\n"
     ]
    }
   ],
   "source": [
    "model3 = Sequential(name=\"Model #3\")\n",
    "model3.add(Embedding(len(list(unique_words)), 256, input_length=max_len, name=\"Embedding\"))\n",
    "model3.add(LSTM(64, dropout=0.5, recurrent_dropout=0.5, name=\"LSTM1\", return_sequences=True))\n",
    "model3.add(LSTM(128, dropout=0.5, recurrent_dropout=0.5, name=\"LSTM2\", return_sequences=True))\n",
    "model3.add(Conv1D(32, 2, name=\"Conv1\", padding=\"same\"))\n",
    "model3.add(MaxPooling1D(name=\"MaxPool1\"))\n",
    "model3.add(Dropout(0.5, name=\"Dropout1\"))\n",
    "model3.add(Conv1D(64, 2, name=\"Conv2\", padding=\"same\"))\n",
    "model3.add(MaxPooling1D(name=\"MaxPool2\"))\n",
    "model3.add(Dropout(0.5, name=\"Dropout2\"))\n",
    "model3.add(Flatten())\n",
    "model3.add(Dense(5, activation=\"softmax\", name=\"output\"))\n",
    "model3.compile(optimizer=Adam(lr=0.005), loss=\"categorical_crossentropy\", metrics=['accuracy'])\n",
    "model3.summary()"
   ]
  },
  {
   "cell_type": "code",
   "execution_count": 105,
   "metadata": {},
   "outputs": [
    {
     "name": "stdout",
     "output_type": "stream",
     "text": [
      "Train on 124848 samples, validate on 31212 samples\n",
      "Epoch 1/20\n",
      "124848/124848 [==============================] - 242s 2ms/step - loss: 1.0676 - acc: 0.5757 - val_loss: 0.8771 - val_acc: 0.6371\n",
      "Epoch 2/20\n",
      "124848/124848 [==============================] - 231s 2ms/step - loss: 0.8636 - acc: 0.6482 - val_loss: 0.8441 - val_acc: 0.6541\n",
      "Epoch 3/20\n",
      "124848/124848 [==============================] - 632s 5ms/step - loss: 0.7991 - acc: 0.6733 - val_loss: 0.8264 - val_acc: 0.6592\n",
      "Epoch 4/20\n",
      "124848/124848 [==============================] - 302s 2ms/step - loss: 0.7614 - acc: 0.6864 - val_loss: 0.8354 - val_acc: 0.6691\n",
      "Epoch 5/20\n",
      "124848/124848 [==============================] - 258s 2ms/step - loss: 0.7343 - acc: 0.6973 - val_loss: 0.8366 - val_acc: 0.6686\n",
      "Epoch 6/20\n",
      "124848/124848 [==============================] - 276s 2ms/step - loss: 0.7177 - acc: 0.7032 - val_loss: 0.8298 - val_acc: 0.6707\n",
      "Epoch 7/20\n",
      "124848/124848 [==============================] - 236s 2ms/step - loss: 0.7040 - acc: 0.7067 - val_loss: 0.8472 - val_acc: 0.6679\n",
      "Epoch 8/20\n",
      "124848/124848 [==============================] - 255s 2ms/step - loss: 0.6935 - acc: 0.7129 - val_loss: 0.8481 - val_acc: 0.6708\n",
      "Epoch 9/20\n",
      "124848/124848 [==============================] - 284s 2ms/step - loss: 0.6856 - acc: 0.7142 - val_loss: 0.8516 - val_acc: 0.6747\n",
      "Epoch 10/20\n",
      "124848/124848 [==============================] - 274s 2ms/step - loss: 0.6777 - acc: 0.7193 - val_loss: 0.8651 - val_acc: 0.6718\n",
      "Epoch 11/20\n",
      "124848/124848 [==============================] - 291s 2ms/step - loss: 0.6724 - acc: 0.7226 - val_loss: 0.8716 - val_acc: 0.6718\n",
      "Epoch 12/20\n",
      " 24576/124848 [====>.........................] - ETA: 3:44 - loss: 0.6585 - acc: 0.7297"
     ]
    },
    {
     "ename": "KeyboardInterrupt",
     "evalue": "",
     "output_type": "error",
     "traceback": [
      "\u001b[0;31m---------------------------------------------------------------------------\u001b[0m",
      "\u001b[0;31mKeyboardInterrupt\u001b[0m                         Traceback (most recent call last)",
      "\u001b[0;32m<ipython-input-105-29cc1b717727>\u001b[0m in \u001b[0;36m<module>\u001b[0;34m\u001b[0m\n\u001b[0;32m----> 1\u001b[0;31m \u001b[0mhistory3\u001b[0m \u001b[0;34m=\u001b[0m \u001b[0mmodel3\u001b[0m\u001b[0;34m.\u001b[0m\u001b[0mfit\u001b[0m\u001b[0;34m(\u001b[0m\u001b[0mX_train\u001b[0m\u001b[0;34m,\u001b[0m \u001b[0my_train\u001b[0m\u001b[0;34m,\u001b[0m \u001b[0mvalidation_data\u001b[0m\u001b[0;34m=\u001b[0m\u001b[0;34m(\u001b[0m\u001b[0mX_val\u001b[0m\u001b[0;34m,\u001b[0m \u001b[0my_val\u001b[0m\u001b[0;34m)\u001b[0m\u001b[0;34m,\u001b[0m \u001b[0mepochs\u001b[0m\u001b[0;34m=\u001b[0m\u001b[0;36m20\u001b[0m\u001b[0;34m,\u001b[0m \u001b[0mbatch_size\u001b[0m\u001b[0;34m=\u001b[0m\u001b[0;36m256\u001b[0m\u001b[0;34m,\u001b[0m \u001b[0mverbose\u001b[0m\u001b[0;34m=\u001b[0m\u001b[0;36m1\u001b[0m\u001b[0;34m,\u001b[0m \u001b[0mcallbacks\u001b[0m\u001b[0;34m=\u001b[0m\u001b[0mour_callbacks3\u001b[0m\u001b[0;34m)\u001b[0m\u001b[0;34m\u001b[0m\u001b[0;34m\u001b[0m\u001b[0m\n\u001b[0m",
      "\u001b[0;32m~/anaconda3/lib/python3.7/site-packages/keras/engine/training.py\u001b[0m in \u001b[0;36mfit\u001b[0;34m(self, x, y, batch_size, epochs, verbose, callbacks, validation_split, validation_data, shuffle, class_weight, sample_weight, initial_epoch, steps_per_epoch, validation_steps, validation_freq, max_queue_size, workers, use_multiprocessing, **kwargs)\u001b[0m\n\u001b[1;32m   1176\u001b[0m                                         \u001b[0msteps_per_epoch\u001b[0m\u001b[0;34m=\u001b[0m\u001b[0msteps_per_epoch\u001b[0m\u001b[0;34m,\u001b[0m\u001b[0;34m\u001b[0m\u001b[0;34m\u001b[0m\u001b[0m\n\u001b[1;32m   1177\u001b[0m                                         \u001b[0mvalidation_steps\u001b[0m\u001b[0;34m=\u001b[0m\u001b[0mvalidation_steps\u001b[0m\u001b[0;34m,\u001b[0m\u001b[0;34m\u001b[0m\u001b[0;34m\u001b[0m\u001b[0m\n\u001b[0;32m-> 1178\u001b[0;31m                                         validation_freq=validation_freq)\n\u001b[0m\u001b[1;32m   1179\u001b[0m \u001b[0;34m\u001b[0m\u001b[0m\n\u001b[1;32m   1180\u001b[0m     def evaluate(self,\n",
      "\u001b[0;32m~/anaconda3/lib/python3.7/site-packages/keras/engine/training_arrays.py\u001b[0m in \u001b[0;36mfit_loop\u001b[0;34m(model, fit_function, fit_inputs, out_labels, batch_size, epochs, verbose, callbacks, val_function, val_inputs, shuffle, callback_metrics, initial_epoch, steps_per_epoch, validation_steps, validation_freq)\u001b[0m\n\u001b[1;32m    202\u001b[0m                     \u001b[0mins_batch\u001b[0m\u001b[0;34m[\u001b[0m\u001b[0mi\u001b[0m\u001b[0;34m]\u001b[0m \u001b[0;34m=\u001b[0m \u001b[0mins_batch\u001b[0m\u001b[0;34m[\u001b[0m\u001b[0mi\u001b[0m\u001b[0;34m]\u001b[0m\u001b[0;34m.\u001b[0m\u001b[0mtoarray\u001b[0m\u001b[0;34m(\u001b[0m\u001b[0;34m)\u001b[0m\u001b[0;34m\u001b[0m\u001b[0;34m\u001b[0m\u001b[0m\n\u001b[1;32m    203\u001b[0m \u001b[0;34m\u001b[0m\u001b[0m\n\u001b[0;32m--> 204\u001b[0;31m                 \u001b[0mouts\u001b[0m \u001b[0;34m=\u001b[0m \u001b[0mfit_function\u001b[0m\u001b[0;34m(\u001b[0m\u001b[0mins_batch\u001b[0m\u001b[0;34m)\u001b[0m\u001b[0;34m\u001b[0m\u001b[0;34m\u001b[0m\u001b[0m\n\u001b[0m\u001b[1;32m    205\u001b[0m                 \u001b[0mouts\u001b[0m \u001b[0;34m=\u001b[0m \u001b[0mto_list\u001b[0m\u001b[0;34m(\u001b[0m\u001b[0mouts\u001b[0m\u001b[0;34m)\u001b[0m\u001b[0;34m\u001b[0m\u001b[0;34m\u001b[0m\u001b[0m\n\u001b[1;32m    206\u001b[0m                 \u001b[0;32mfor\u001b[0m \u001b[0ml\u001b[0m\u001b[0;34m,\u001b[0m \u001b[0mo\u001b[0m \u001b[0;32min\u001b[0m \u001b[0mzip\u001b[0m\u001b[0;34m(\u001b[0m\u001b[0mout_labels\u001b[0m\u001b[0;34m,\u001b[0m \u001b[0mouts\u001b[0m\u001b[0;34m)\u001b[0m\u001b[0;34m:\u001b[0m\u001b[0;34m\u001b[0m\u001b[0;34m\u001b[0m\u001b[0m\n",
      "\u001b[0;32m~/anaconda3/lib/python3.7/site-packages/keras/backend/tensorflow_backend.py\u001b[0m in \u001b[0;36m__call__\u001b[0;34m(self, inputs)\u001b[0m\n\u001b[1;32m   2977\u001b[0m                     \u001b[0;32mreturn\u001b[0m \u001b[0mself\u001b[0m\u001b[0;34m.\u001b[0m\u001b[0m_legacy_call\u001b[0m\u001b[0;34m(\u001b[0m\u001b[0minputs\u001b[0m\u001b[0;34m)\u001b[0m\u001b[0;34m\u001b[0m\u001b[0;34m\u001b[0m\u001b[0m\n\u001b[1;32m   2978\u001b[0m \u001b[0;34m\u001b[0m\u001b[0m\n\u001b[0;32m-> 2979\u001b[0;31m             \u001b[0;32mreturn\u001b[0m \u001b[0mself\u001b[0m\u001b[0;34m.\u001b[0m\u001b[0m_call\u001b[0m\u001b[0;34m(\u001b[0m\u001b[0minputs\u001b[0m\u001b[0;34m)\u001b[0m\u001b[0;34m\u001b[0m\u001b[0;34m\u001b[0m\u001b[0m\n\u001b[0m\u001b[1;32m   2980\u001b[0m         \u001b[0;32melse\u001b[0m\u001b[0;34m:\u001b[0m\u001b[0;34m\u001b[0m\u001b[0;34m\u001b[0m\u001b[0m\n\u001b[1;32m   2981\u001b[0m             \u001b[0;32mif\u001b[0m \u001b[0mpy_any\u001b[0m\u001b[0;34m(\u001b[0m\u001b[0mis_tensor\u001b[0m\u001b[0;34m(\u001b[0m\u001b[0mx\u001b[0m\u001b[0;34m)\u001b[0m \u001b[0;32mfor\u001b[0m \u001b[0mx\u001b[0m \u001b[0;32min\u001b[0m \u001b[0minputs\u001b[0m\u001b[0;34m)\u001b[0m\u001b[0;34m:\u001b[0m\u001b[0;34m\u001b[0m\u001b[0;34m\u001b[0m\u001b[0m\n",
      "\u001b[0;32m~/anaconda3/lib/python3.7/site-packages/keras/backend/tensorflow_backend.py\u001b[0m in \u001b[0;36m_call\u001b[0;34m(self, inputs)\u001b[0m\n\u001b[1;32m   2935\u001b[0m             \u001b[0mfetched\u001b[0m \u001b[0;34m=\u001b[0m \u001b[0mself\u001b[0m\u001b[0;34m.\u001b[0m\u001b[0m_callable_fn\u001b[0m\u001b[0;34m(\u001b[0m\u001b[0;34m*\u001b[0m\u001b[0marray_vals\u001b[0m\u001b[0;34m,\u001b[0m \u001b[0mrun_metadata\u001b[0m\u001b[0;34m=\u001b[0m\u001b[0mself\u001b[0m\u001b[0;34m.\u001b[0m\u001b[0mrun_metadata\u001b[0m\u001b[0;34m)\u001b[0m\u001b[0;34m\u001b[0m\u001b[0;34m\u001b[0m\u001b[0m\n\u001b[1;32m   2936\u001b[0m         \u001b[0;32melse\u001b[0m\u001b[0;34m:\u001b[0m\u001b[0;34m\u001b[0m\u001b[0;34m\u001b[0m\u001b[0m\n\u001b[0;32m-> 2937\u001b[0;31m             \u001b[0mfetched\u001b[0m \u001b[0;34m=\u001b[0m \u001b[0mself\u001b[0m\u001b[0;34m.\u001b[0m\u001b[0m_callable_fn\u001b[0m\u001b[0;34m(\u001b[0m\u001b[0;34m*\u001b[0m\u001b[0marray_vals\u001b[0m\u001b[0;34m)\u001b[0m\u001b[0;34m\u001b[0m\u001b[0;34m\u001b[0m\u001b[0m\n\u001b[0m\u001b[1;32m   2938\u001b[0m         \u001b[0;32mreturn\u001b[0m \u001b[0mfetched\u001b[0m\u001b[0;34m[\u001b[0m\u001b[0;34m:\u001b[0m\u001b[0mlen\u001b[0m\u001b[0;34m(\u001b[0m\u001b[0mself\u001b[0m\u001b[0;34m.\u001b[0m\u001b[0moutputs\u001b[0m\u001b[0;34m)\u001b[0m\u001b[0;34m]\u001b[0m\u001b[0;34m\u001b[0m\u001b[0;34m\u001b[0m\u001b[0m\n\u001b[1;32m   2939\u001b[0m \u001b[0;34m\u001b[0m\u001b[0m\n",
      "\u001b[0;32m~/anaconda3/lib/python3.7/site-packages/tensorflow/python/client/session.py\u001b[0m in \u001b[0;36m__call__\u001b[0;34m(self, *args, **kwargs)\u001b[0m\n\u001b[1;32m   1437\u001b[0m           ret = tf_session.TF_SessionRunCallable(\n\u001b[1;32m   1438\u001b[0m               \u001b[0mself\u001b[0m\u001b[0;34m.\u001b[0m\u001b[0m_session\u001b[0m\u001b[0;34m.\u001b[0m\u001b[0m_session\u001b[0m\u001b[0;34m,\u001b[0m \u001b[0mself\u001b[0m\u001b[0;34m.\u001b[0m\u001b[0m_handle\u001b[0m\u001b[0;34m,\u001b[0m \u001b[0margs\u001b[0m\u001b[0;34m,\u001b[0m \u001b[0mstatus\u001b[0m\u001b[0;34m,\u001b[0m\u001b[0;34m\u001b[0m\u001b[0;34m\u001b[0m\u001b[0m\n\u001b[0;32m-> 1439\u001b[0;31m               run_metadata_ptr)\n\u001b[0m\u001b[1;32m   1440\u001b[0m         \u001b[0;32mif\u001b[0m \u001b[0mrun_metadata\u001b[0m\u001b[0;34m:\u001b[0m\u001b[0;34m\u001b[0m\u001b[0;34m\u001b[0m\u001b[0m\n\u001b[1;32m   1441\u001b[0m           \u001b[0mproto_data\u001b[0m \u001b[0;34m=\u001b[0m \u001b[0mtf_session\u001b[0m\u001b[0;34m.\u001b[0m\u001b[0mTF_GetBuffer\u001b[0m\u001b[0;34m(\u001b[0m\u001b[0mrun_metadata_ptr\u001b[0m\u001b[0;34m)\u001b[0m\u001b[0;34m\u001b[0m\u001b[0;34m\u001b[0m\u001b[0m\n",
      "\u001b[0;31mKeyboardInterrupt\u001b[0m: "
     ]
    }
   ],
   "source": [
    "history3 = model3.fit(X_train, y_train, validation_data=(X_val, y_val), epochs=20, batch_size=256, verbose=1, callbacks=our_callbacks3)\n"
   ]
  },
  {
   "cell_type": "code",
   "execution_count": 107,
   "metadata": {},
   "outputs": [],
   "source": [
    "plt.plot(history3.history['loss'], 'r--')\n",
    "plt.plot(history3.history['val_loss'], 'b--')\n",
    "plt.legend(['Training loss', 'Validation loss'])\n",
    "plt.xlabel(\"# epochs\")\n",
    "plt.ylabel(\"Loss\")\n",
    "plt.show()"
   ]
  },
  {
   "cell_type": "markdown",
   "metadata": {},
   "source": [
    "# Prediction"
   ]
  },
  {
   "cell_type": "code",
   "execution_count": 110,
   "metadata": {},
   "outputs": [],
   "source": [
    "from keras.models import load_model\n",
    "model = load_model('dbms_model.h5')\n",
    "model2 = load_model('dbms_model_cnn_lstm.h5')\n",
    "model3 = load_model('dbms_model_lstm_cnn.h5')"
   ]
  },
  {
   "cell_type": "code",
   "execution_count": 111,
   "metadata": {},
   "outputs": [],
   "source": [
    "# we'll be making prediction based on all the three models\n",
    "y_pred_1 = model.predict_classes(X_test)\n",
    "\n",
    "sub_file = pd.read_csv('sampleSubmission.csv', sep=',')\n",
    "sub_file.Sentiment = y_pred_1\n",
    "sub_file.to_csv('SubmissionModel1.csv', index=False)"
   ]
  },
  {
   "cell_type": "code",
   "execution_count": 112,
   "metadata": {},
   "outputs": [],
   "source": [
    "y_pred_2 = model2.predict_classes(X_test)\n",
    "sub_file = pd.read_csv('sampleSubmission.csv', sep=',')\n",
    "sub_file.Sentiment = y_pred_2\n",
    "sub_file.to_csv('SubmissionModel2.csv', index=False)"
   ]
  },
  {
   "cell_type": "code",
   "execution_count": 113,
   "metadata": {},
   "outputs": [],
   "source": [
    "y_pred_3 = model3.predict_classes(X_test)\n",
    "sub_file = pd.read_csv('sampleSubmission.csv', sep=',')\n",
    "sub_file.Sentiment = y_pred_3\n",
    "sub_file.to_csv('SubmissionModel3.csv', index=False)"
   ]
  },
  {
   "cell_type": "markdown",
   "metadata": {},
   "source": [
    "# Kaggle Score"
   ]
  },
  {
   "cell_type": "markdown",
   "metadata": {},
   "source": [
    "for model1\n",
    "<img src='kaggle_1.PNG'><br>\n",
    "for model3\n",
    "<img src='kaggle_2.PNG'>"
   ]
  },
  {
   "cell_type": "code",
   "execution_count": null,
   "metadata": {},
   "outputs": [],
   "source": []
  }
 ],
 "metadata": {
  "kernelspec": {
   "display_name": "Python 3",
   "language": "python",
   "name": "python3"
  }
 },
 "nbformat": 4,
 "nbformat_minor": 2
}
